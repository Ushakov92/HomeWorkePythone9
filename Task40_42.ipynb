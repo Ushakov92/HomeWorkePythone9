{
  "nbformat": 4,
  "nbformat_minor": 0,
  "metadata": {
    "colab": {
      "provenance": []
    },
    "kernelspec": {
      "name": "python3",
      "display_name": "Python 3"
    },
    "language_info": {
      "name": "python"
    }
  },
  "cells": [
    {
      "cell_type": "markdown",
      "source": [],
      "metadata": {
        "id": "HsC7g6jjn_qz"
      }
    },
    {
      "cell_type": "markdown",
      "source": [
        "Задача 40:\n",
        "\n",
        "Работать с файлом california_housing_train.csv, который находится в папке sample_data.\n",
        "\n",
        "Определить среднюю стоимость дома, где кол-во людей от 0 до 500 (population)"
      ],
      "metadata": {
        "id": "OjnkTFd3oCmC"
      }
    },
    {
      "cell_type": "code",
      "source": [
        "import pandas as pd"
      ],
      "metadata": {
        "id": "Yqp3j0WJoIjF"
      },
      "execution_count": 1,
      "outputs": []
    },
    {
      "cell_type": "code",
      "source": [
        "df = pd.read_csv('sample_data/california_housing_train.csv')"
      ],
      "metadata": {
        "id": "N8-9N13Loggx"
      },
      "execution_count": 2,
      "outputs": []
    },
    {
      "cell_type": "code",
      "source": [
        "df[df['population'] >= 0 & (df['population'] <= 500)]['median_house_value'].mean()"
      ],
      "metadata": {
        "colab": {
          "base_uri": "https://localhost:8080/"
        },
        "id": "M3rKa8L1on5j",
        "outputId": "1cafe0bc-de34-4d00-afa7-184a6fbf3092"
      },
      "execution_count": 3,
      "outputs": [
        {
          "output_type": "execute_result",
          "data": {
            "text/plain": [
              "207300.91235294117"
            ]
          },
          "metadata": {},
          "execution_count": 3
        }
      ]
    },
    {
      "cell_type": "markdown",
      "source": [
        "Задача 42:\n",
        "\n",
        "Узнать какая максимальная households в зоне минимального значения population"
      ],
      "metadata": {
        "id": "KotSS2K3ovup"
      }
    },
    {
      "cell_type": "code",
      "source": [
        "df[df['population'] == df['population'].min()]['households'].max()"
      ],
      "metadata": {
        "colab": {
          "base_uri": "https://localhost:8080/"
        },
        "id": "zx8eV9Ago1va",
        "outputId": "f8d3902d-a3e1-4796-a1c2-cf7e6046b557"
      },
      "execution_count": 4,
      "outputs": [
        {
          "output_type": "execute_result",
          "data": {
            "text/plain": [
              "4.0"
            ]
          },
          "metadata": {},
          "execution_count": 4
        }
      ]
    }
  ]
}